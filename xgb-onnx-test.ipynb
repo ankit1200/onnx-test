{
 "cells": [
  {
   "cell_type": "code",
   "execution_count": 1,
   "metadata": {},
   "outputs": [],
   "source": [
    "import xgb_test"
   ]
  },
  {
   "cell_type": "markdown",
   "metadata": {},
   "source": [
    "### Happy Path XGBoost Model"
   ]
  },
  {
   "cell_type": "code",
   "execution_count": 2,
   "metadata": {},
   "outputs": [
    {
     "name": "stdout",
     "output_type": "stream",
     "text": [
      "[17:04:55] WARNING: /workspace/src/objective/regression_obj.cu:152: reg:linear is now deprecated in favor of reg:squarederror.\n",
      "Predictions: [ 8.531183  17.426376  24.354538  10.202603  17.86703   20.111704\n",
      " 17.825245   7.0048833 12.371497  18.518875  18.143133  14.239707\n",
      " 11.409273  17.309526  13.857576  14.114464  13.485846  26.225672\n",
      " 13.496281  10.878549  11.365604  12.844106  18.621658  22.8889\n",
      " 22.134113  13.578582  10.041029  14.692133  14.988752  13.096905\n",
      " 13.522167  19.658325   7.2066092 14.5406    15.21958   22.480894\n",
      " 16.636026  10.085008  12.709627  23.140484  16.660902  13.496281\n",
      "  8.958481  24.830044  12.231392  17.061684  13.437938  13.822018\n",
      " 12.229067  10.875528  19.658325  16.804878  13.622031   7.8421807\n",
      " 14.484597  10.775787  11.339119   7.332822  19.603703   7.9418693\n",
      " 12.913391  13.190836  11.924444  11.435618  14.4757595 15.929399\n",
      " 16.288265  12.295227  15.335289  18.830666  13.095968  15.788654\n",
      " 12.999216  17.24653   10.544081  10.580927   8.360582  13.825303\n",
      " 17.311451   7.3747377 19.365898   7.607931  15.4889765 14.418811\n",
      " 13.792062  14.946836  10.085008  16.069473  14.7084    18.247932\n",
      "  8.68407   19.244606  13.321823  15.266518  18.869804  17.532722\n",
      " 10.733325  19.642899  15.874859  20.902187  15.050529  11.46886  ]\n",
      "RMSE: 10.449300\n"
     ]
    }
   ],
   "source": [
    "data = xgb_test.get_data()\n",
    "X_train, X_test, y_train, y_test = xgb_test.split_data(data)\n",
    "model = xgb_test.fit_model(X_train, y_train)\n",
    "preds, rmse = xgb_test.score_model(model, X_test, y_test)\n",
    "print(\"Predictions: \" + str(preds))\n",
    "print(\"RMSE: %f\" % (rmse))"
   ]
  },
  {
   "cell_type": "markdown",
   "metadata": {},
   "source": [
    "### Convert XGBoost Model to ONNX"
   ]
  },
  {
   "cell_type": "code",
   "execution_count": 3,
   "metadata": {},
   "outputs": [],
   "source": [
    "import onnx_test"
   ]
  },
  {
   "cell_type": "code",
   "execution_count": 4,
   "metadata": {},
   "outputs": [],
   "source": [
    "booster = model.get_booster()\n",
    "features = booster.feature_names"
   ]
  },
  {
   "cell_type": "code",
   "execution_count": 5,
   "metadata": {},
   "outputs": [
    {
     "name": "stderr",
     "output_type": "stream",
     "text": [
      "The maximum opset needed by this model is only 1.\n"
     ]
    }
   ],
   "source": [
    "onnx_model_path = \"model_files/test_xgb.onnx\"\n",
    "onnx_model = onnx_test.convert_xgb_to_onnx(model, len(features), onnx_model_path)"
   ]
  },
  {
   "cell_type": "code",
   "execution_count": 6,
   "metadata": {},
   "outputs": [],
   "source": [
    "onnx_pred = onnx_test.score_onnx_model(onnx_model_path, X_test)"
   ]
  },
  {
   "cell_type": "markdown",
   "metadata": {},
   "source": [
    "### Compare ONNX results and XGB results"
   ]
  },
  {
   "cell_type": "code",
   "execution_count": 7,
   "metadata": {},
   "outputs": [
    {
     "name": "stdout",
     "output_type": "stream",
     "text": [
      "[9.536743e-07]\n",
      "[0.]\n",
      "[0.]\n",
      "[0.]\n",
      "[-1.9073486e-06]\n",
      "[1.9073486e-06]\n",
      "[0.]\n",
      "[0.]\n",
      "[0.]\n",
      "[0.]\n",
      "[0.]\n",
      "[9.536743e-07]\n",
      "[-9.536743e-07]\n",
      "[1.9073486e-06]\n",
      "[0.]\n",
      "[9.536743e-07]\n",
      "[0.]\n",
      "[1.9073486e-06]\n",
      "[0.]\n",
      "[0.]\n",
      "[0.]\n",
      "[-9.536743e-07]\n",
      "[0.]\n",
      "[3.8146973e-06]\n",
      "[0.]\n",
      "[9.536743e-07]\n",
      "[0.]\n",
      "[0.]\n",
      "[0.]\n",
      "[9.536743e-07]\n",
      "[0.]\n",
      "[0.]\n",
      "[4.7683716e-07]\n",
      "[9.536743e-07]\n",
      "[9.536743e-07]\n",
      "[1.9073486e-06]\n",
      "[1.9073486e-06]\n",
      "[0.]\n",
      "[9.536743e-07]\n",
      "[0.]\n",
      "[0.]\n",
      "[0.]\n",
      "[0.]\n",
      "[1.9073486e-06]\n",
      "[-9.536743e-07]\n",
      "[3.8146973e-06]\n",
      "[0.]\n",
      "[9.536743e-07]\n",
      "[9.536743e-07]\n",
      "[9.536743e-07]\n",
      "[0.]\n",
      "[0.]\n",
      "[0.]\n",
      "[4.7683716e-07]\n",
      "[0.]\n",
      "[0.]\n",
      "[0.]\n",
      "[0.]\n",
      "[0.]\n",
      "[4.7683716e-07]\n",
      "[0.]\n",
      "[0.]\n",
      "[-9.536743e-07]\n",
      "[-9.536743e-07]\n",
      "[9.536743e-07]\n",
      "[1.9073486e-06]\n",
      "[0.]\n",
      "[9.536743e-07]\n",
      "[9.536743e-07]\n",
      "[-3.8146973e-06]\n",
      "[9.536743e-07]\n",
      "[9.536743e-07]\n",
      "[0.]\n",
      "[1.9073486e-06]\n",
      "[0.]\n",
      "[0.]\n",
      "[9.536743e-07]\n",
      "[0.]\n",
      "[0.]\n",
      "[0.]\n",
      "[0.]\n",
      "[4.7683716e-07]\n",
      "[1.9073486e-06]\n",
      "[9.536743e-07]\n",
      "[9.536743e-07]\n",
      "[1.9073486e-06]\n",
      "[0.]\n",
      "[0.]\n",
      "[9.536743e-07]\n",
      "[-3.8146973e-06]\n",
      "[9.536743e-07]\n",
      "[0.]\n",
      "[0.]\n",
      "[0.]\n",
      "[0.]\n",
      "[0.]\n",
      "[0.]\n",
      "[0.]\n",
      "[9.536743e-07]\n",
      "[0.]\n",
      "[9.536743e-07]\n",
      "[-9.536743e-07]\n"
     ]
    }
   ],
   "source": [
    "for i in range(0,len(preds)):\n",
    "    print(preds[i]-onnx_pred[i])"
   ]
  },
  {
   "cell_type": "markdown",
   "metadata": {},
   "source": [
    "### Create a dask XGB Model"
   ]
  },
  {
   "cell_type": "code",
   "execution_count": 8,
   "metadata": {},
   "outputs": [],
   "source": [
    "import dask_xgb_test\n",
    "from dask.distributed import Client"
   ]
  },
  {
   "cell_type": "code",
   "execution_count": 9,
   "metadata": {},
   "outputs": [
    {
     "data": {
      "text/html": [
       "<table style=\"border: 2px solid white;\">\n",
       "<tr>\n",
       "<td style=\"vertical-align: top; border: 0px solid white\">\n",
       "<h3 style=\"text-align: left;\">Client</h3>\n",
       "<ul style=\"text-align: left; list-style: none; margin: 0; padding: 0;\">\n",
       "  <li><b>Scheduler: </b>tcp://127.0.0.1:42687</li>\n",
       "  <li><b>Dashboard: </b><a href='http://127.0.0.1:8787/status' target='_blank'>http://127.0.0.1:8787/status</a>\n",
       "</ul>\n",
       "</td>\n",
       "<td style=\"vertical-align: top; border: 0px solid white\">\n",
       "<h3 style=\"text-align: left;\">Cluster</h3>\n",
       "<ul style=\"text-align: left; list-style:none; margin: 0; padding: 0;\">\n",
       "  <li><b>Workers: </b>8</li>\n",
       "  <li><b>Cores: </b>32</li>\n",
       "  <li><b>Memory: </b>1.03 TB</li>\n",
       "</ul>\n",
       "</td>\n",
       "</tr>\n",
       "</table>"
      ],
      "text/plain": [
       "<Client: 'tcp://127.0.0.1:42687' processes=8 threads=32, memory=1.03 TB>"
      ]
     },
     "execution_count": 9,
     "metadata": {},
     "output_type": "execute_result"
    }
   ],
   "source": [
    "client = Client()  # connect to cluster\n",
    "client"
   ]
  },
  {
   "cell_type": "code",
   "execution_count": 10,
   "metadata": {},
   "outputs": [],
   "source": [
    "# Get Dask Dataframe\n",
    "dask_data = dask_xgb_test.get_dask_data(data)\n",
    "# Get Feature List (Removed PRICE, because that is the target)\n",
    "features = dask_data.drop('PRICE', axis=1)\n",
    "# Split data to get training set\n",
    "X_train_dask, y_train_dask = dask_xgb_test.split_data(dask_data, features.columns, 'PRICE')\n",
    "# Fit Dask XGB model\n",
    "dask_model = dask_xgb_test.fit_model(X_train_dask, y_train_dask).get_booster()"
   ]
  },
  {
   "cell_type": "markdown",
   "metadata": {},
   "source": [
    "### Predict dask XGB model"
   ]
  },
  {
   "cell_type": "code",
   "execution_count": 11,
   "metadata": {},
   "outputs": [],
   "source": [
    "predictions = dask_xgb_test.score_model(client, dask_model, X_train_dask)"
   ]
  },
  {
   "cell_type": "markdown",
   "metadata": {},
   "source": [
    "### Convert Dask XGB model to ONNX"
   ]
  },
  {
   "cell_type": "code",
   "execution_count": 12,
   "metadata": {},
   "outputs": [
    {
     "ename": "ValueError",
     "evalue": "No proper operator name found for '<class 'xgboost.core.Booster'>'",
     "output_type": "error",
     "traceback": [
      "\u001b[0;31m---------------------------------------------------------------------------\u001b[0m",
      "\u001b[0;31mValueError\u001b[0m                                Traceback (most recent call last)",
      "\u001b[0;32m<ipython-input-12-f46cd4cec204>\u001b[0m in \u001b[0;36m<module>\u001b[0;34m\u001b[0m\n\u001b[1;32m      1\u001b[0m \u001b[0monnx_model_path\u001b[0m \u001b[0;34m=\u001b[0m \u001b[0;34m\"model_files/test_dask_xgb.onnx\"\u001b[0m\u001b[0;34m\u001b[0m\u001b[0;34m\u001b[0m\u001b[0m\n\u001b[1;32m      2\u001b[0m \u001b[0mfeatures_dask\u001b[0m \u001b[0;34m=\u001b[0m \u001b[0mdask_model\u001b[0m\u001b[0;34m.\u001b[0m\u001b[0mfeature_names\u001b[0m\u001b[0;34m\u001b[0m\u001b[0;34m\u001b[0m\u001b[0m\n\u001b[0;32m----> 3\u001b[0;31m \u001b[0monnx_model\u001b[0m \u001b[0;34m=\u001b[0m \u001b[0monnx_test\u001b[0m\u001b[0;34m.\u001b[0m\u001b[0mconvert_xgb_to_onnx\u001b[0m\u001b[0;34m(\u001b[0m\u001b[0mdask_model\u001b[0m\u001b[0;34m,\u001b[0m \u001b[0mlen\u001b[0m\u001b[0;34m(\u001b[0m\u001b[0mfeatures_dask\u001b[0m\u001b[0;34m)\u001b[0m\u001b[0;34m,\u001b[0m \u001b[0monnx_model_path\u001b[0m\u001b[0;34m)\u001b[0m\u001b[0;34m\u001b[0m\u001b[0;34m\u001b[0m\u001b[0m\n\u001b[0m",
      "\u001b[0;32m/mnt/developer/onnx_test.py\u001b[0m in \u001b[0;36mconvert_xgb_to_onnx\u001b[0;34m(xgb_model, num_features, file_path)\u001b[0m\n\u001b[1;32m      7\u001b[0m \u001b[0;32mdef\u001b[0m \u001b[0mconvert_xgb_to_onnx\u001b[0m\u001b[0;34m(\u001b[0m\u001b[0mxgb_model\u001b[0m\u001b[0;34m,\u001b[0m \u001b[0mnum_features\u001b[0m\u001b[0;34m,\u001b[0m \u001b[0mfile_path\u001b[0m\u001b[0;34m)\u001b[0m\u001b[0;34m:\u001b[0m\u001b[0;34m\u001b[0m\u001b[0;34m\u001b[0m\u001b[0m\n\u001b[1;32m      8\u001b[0m     \u001b[0minitial_types\u001b[0m \u001b[0;34m=\u001b[0m \u001b[0;34m[\u001b[0m\u001b[0;34m(\u001b[0m\u001b[0;34m'input'\u001b[0m\u001b[0;34m,\u001b[0m \u001b[0mFloatTensorType\u001b[0m\u001b[0;34m(\u001b[0m\u001b[0;34m[\u001b[0m\u001b[0;32mNone\u001b[0m\u001b[0;34m,\u001b[0m \u001b[0mnum_features\u001b[0m\u001b[0;34m]\u001b[0m\u001b[0;34m)\u001b[0m\u001b[0;34m)\u001b[0m\u001b[0;34m]\u001b[0m\u001b[0;34m\u001b[0m\u001b[0;34m\u001b[0m\u001b[0m\n\u001b[0;32m----> 9\u001b[0;31m     \u001b[0monnx_model\u001b[0m \u001b[0;34m=\u001b[0m \u001b[0mconvert_xgboost\u001b[0m\u001b[0;34m(\u001b[0m\u001b[0mxgb_model\u001b[0m\u001b[0;34m,\u001b[0m \u001b[0minitial_types\u001b[0m \u001b[0;34m=\u001b[0m \u001b[0minitial_types\u001b[0m\u001b[0;34m)\u001b[0m\u001b[0;34m\u001b[0m\u001b[0;34m\u001b[0m\u001b[0m\n\u001b[0m\u001b[1;32m     10\u001b[0m \u001b[0;34m\u001b[0m\u001b[0m\n\u001b[1;32m     11\u001b[0m     \u001b[0;32mwith\u001b[0m \u001b[0mopen\u001b[0m\u001b[0;34m(\u001b[0m\u001b[0mfile_path\u001b[0m\u001b[0;34m,\u001b[0m \u001b[0;34m\"wb\"\u001b[0m\u001b[0;34m)\u001b[0m \u001b[0;32mas\u001b[0m \u001b[0mf\u001b[0m\u001b[0;34m:\u001b[0m\u001b[0;34m\u001b[0m\u001b[0;34m\u001b[0m\u001b[0m\n",
      "\u001b[0;32m~/.conda/envs/mamba/lib/python3.6/site-packages/onnxmltools/convert/main.py\u001b[0m in \u001b[0;36mconvert_xgboost\u001b[0;34m(*args, **kwargs)\u001b[0m\n\u001b[1;32m     93\u001b[0m \u001b[0;34m\u001b[0m\u001b[0m\n\u001b[1;32m     94\u001b[0m     \u001b[0;32mfrom\u001b[0m \u001b[0;34m.\u001b[0m\u001b[0mxgboost\u001b[0m\u001b[0;34m.\u001b[0m\u001b[0mconvert\u001b[0m \u001b[0;32mimport\u001b[0m \u001b[0mconvert\u001b[0m\u001b[0;34m\u001b[0m\u001b[0;34m\u001b[0m\u001b[0m\n\u001b[0;32m---> 95\u001b[0;31m     \u001b[0;32mreturn\u001b[0m \u001b[0mconvert\u001b[0m\u001b[0;34m(\u001b[0m\u001b[0;34m*\u001b[0m\u001b[0margs\u001b[0m\u001b[0;34m,\u001b[0m \u001b[0;34m**\u001b[0m\u001b[0mkwargs\u001b[0m\u001b[0;34m)\u001b[0m\u001b[0;34m\u001b[0m\u001b[0;34m\u001b[0m\u001b[0m\n\u001b[0m\u001b[1;32m     96\u001b[0m \u001b[0;34m\u001b[0m\u001b[0m\n",
      "\u001b[0;32m~/.conda/envs/mamba/lib/python3.6/site-packages/onnxmltools/convert/xgboost/convert.py\u001b[0m in \u001b[0;36mconvert\u001b[0;34m(model, name, initial_types, doc_string, target_opset, targeted_onnx, custom_conversion_functions, custom_shape_calculators)\u001b[0m\n\u001b[1;32m     39\u001b[0m \u001b[0;34m\u001b[0m\u001b[0m\n\u001b[1;32m     40\u001b[0m     \u001b[0mtarget_opset\u001b[0m \u001b[0;34m=\u001b[0m \u001b[0mtarget_opset\u001b[0m \u001b[0;32mif\u001b[0m \u001b[0mtarget_opset\u001b[0m \u001b[0;32melse\u001b[0m \u001b[0mget_opset_number_from_onnx\u001b[0m\u001b[0;34m(\u001b[0m\u001b[0;34m)\u001b[0m\u001b[0;34m\u001b[0m\u001b[0;34m\u001b[0m\u001b[0m\n\u001b[0;32m---> 41\u001b[0;31m     \u001b[0mtopology\u001b[0m \u001b[0;34m=\u001b[0m \u001b[0mparse_xgboost\u001b[0m\u001b[0;34m(\u001b[0m\u001b[0mmodel\u001b[0m\u001b[0;34m,\u001b[0m \u001b[0minitial_types\u001b[0m\u001b[0;34m,\u001b[0m \u001b[0mtarget_opset\u001b[0m\u001b[0;34m,\u001b[0m \u001b[0mcustom_conversion_functions\u001b[0m\u001b[0;34m,\u001b[0m \u001b[0mcustom_shape_calculators\u001b[0m\u001b[0;34m)\u001b[0m\u001b[0;34m\u001b[0m\u001b[0;34m\u001b[0m\u001b[0m\n\u001b[0m\u001b[1;32m     42\u001b[0m     \u001b[0mtopology\u001b[0m\u001b[0;34m.\u001b[0m\u001b[0mcompile\u001b[0m\u001b[0;34m(\u001b[0m\u001b[0;34m)\u001b[0m\u001b[0;34m\u001b[0m\u001b[0;34m\u001b[0m\u001b[0m\n\u001b[1;32m     43\u001b[0m     \u001b[0monnx_model\u001b[0m \u001b[0;34m=\u001b[0m \u001b[0mconvert_topology\u001b[0m\u001b[0;34m(\u001b[0m\u001b[0mtopology\u001b[0m\u001b[0;34m,\u001b[0m \u001b[0mname\u001b[0m\u001b[0;34m,\u001b[0m \u001b[0mdoc_string\u001b[0m\u001b[0;34m,\u001b[0m \u001b[0mtarget_opset\u001b[0m\u001b[0;34m,\u001b[0m \u001b[0mtargeted_onnx\u001b[0m\u001b[0;34m)\u001b[0m\u001b[0;34m\u001b[0m\u001b[0;34m\u001b[0m\u001b[0m\n",
      "\u001b[0;32m~/.conda/envs/mamba/lib/python3.6/site-packages/onnxmltools/convert/xgboost/_parse.py\u001b[0m in \u001b[0;36mparse_xgboost\u001b[0;34m(model, initial_types, target_opset, custom_conversion_functions, custom_shape_calculators)\u001b[0m\n\u001b[1;32m     84\u001b[0m         \u001b[0mraw_model_container\u001b[0m\u001b[0;34m.\u001b[0m\u001b[0madd_input\u001b[0m\u001b[0;34m(\u001b[0m\u001b[0mvariable\u001b[0m\u001b[0;34m)\u001b[0m\u001b[0;34m\u001b[0m\u001b[0;34m\u001b[0m\u001b[0m\n\u001b[1;32m     85\u001b[0m \u001b[0;34m\u001b[0m\u001b[0m\n\u001b[0;32m---> 86\u001b[0;31m     \u001b[0moutputs\u001b[0m \u001b[0;34m=\u001b[0m \u001b[0m_parse_xgboost\u001b[0m\u001b[0;34m(\u001b[0m\u001b[0mscope\u001b[0m\u001b[0;34m,\u001b[0m \u001b[0mmodel\u001b[0m\u001b[0;34m,\u001b[0m \u001b[0minputs\u001b[0m\u001b[0;34m)\u001b[0m\u001b[0;34m\u001b[0m\u001b[0;34m\u001b[0m\u001b[0m\n\u001b[0m\u001b[1;32m     87\u001b[0m \u001b[0;34m\u001b[0m\u001b[0m\n\u001b[1;32m     88\u001b[0m     \u001b[0;32mfor\u001b[0m \u001b[0mvariable\u001b[0m \u001b[0;32min\u001b[0m \u001b[0moutputs\u001b[0m\u001b[0;34m:\u001b[0m\u001b[0;34m\u001b[0m\u001b[0;34m\u001b[0m\u001b[0m\n",
      "\u001b[0;32m~/.conda/envs/mamba/lib/python3.6/site-packages/onnxmltools/convert/xgboost/_parse.py\u001b[0m in \u001b[0;36m_parse_xgboost\u001b[0;34m(scope, model, inputs)\u001b[0m\n\u001b[1;32m     64\u001b[0m     \u001b[0;34m:\u001b[0m\u001b[0;32mreturn\u001b[0m\u001b[0;34m:\u001b[0m \u001b[0mThe\u001b[0m \u001b[0moutput\u001b[0m \u001b[0mvariables\u001b[0m \u001b[0mproduced\u001b[0m \u001b[0mby\u001b[0m \u001b[0mthe\u001b[0m \u001b[0minput\u001b[0m \u001b[0mmodel\u001b[0m\u001b[0;34m\u001b[0m\u001b[0;34m\u001b[0m\u001b[0m\n\u001b[1;32m     65\u001b[0m     '''\n\u001b[0;32m---> 66\u001b[0;31m     \u001b[0;32mreturn\u001b[0m \u001b[0m_parse_xgboost_simple_model\u001b[0m\u001b[0;34m(\u001b[0m\u001b[0mscope\u001b[0m\u001b[0;34m,\u001b[0m \u001b[0mmodel\u001b[0m\u001b[0;34m,\u001b[0m \u001b[0minputs\u001b[0m\u001b[0;34m)\u001b[0m\u001b[0;34m\u001b[0m\u001b[0;34m\u001b[0m\u001b[0m\n\u001b[0m\u001b[1;32m     67\u001b[0m \u001b[0;34m\u001b[0m\u001b[0m\n\u001b[1;32m     68\u001b[0m \u001b[0;34m\u001b[0m\u001b[0m\n",
      "\u001b[0;32m~/.conda/envs/mamba/lib/python3.6/site-packages/onnxmltools/convert/xgboost/_parse.py\u001b[0m in \u001b[0;36m_parse_xgboost_simple_model\u001b[0;34m(scope, model, inputs)\u001b[0m\n\u001b[1;32m     38\u001b[0m     \u001b[0;34m:\u001b[0m\u001b[0;32mreturn\u001b[0m\u001b[0;34m:\u001b[0m \u001b[0mA\u001b[0m \u001b[0mlist\u001b[0m \u001b[0mof\u001b[0m \u001b[0moutput\u001b[0m \u001b[0mvariables\u001b[0m \u001b[0mwhich\u001b[0m \u001b[0mwill\u001b[0m \u001b[0mbe\u001b[0m \u001b[0mpassed\u001b[0m \u001b[0mto\u001b[0m \u001b[0mnext\u001b[0m \u001b[0mstage\u001b[0m\u001b[0;34m\u001b[0m\u001b[0;34m\u001b[0m\u001b[0m\n\u001b[1;32m     39\u001b[0m     '''\n\u001b[0;32m---> 40\u001b[0;31m     \u001b[0mthis_operator\u001b[0m \u001b[0;34m=\u001b[0m \u001b[0mscope\u001b[0m\u001b[0;34m.\u001b[0m\u001b[0mdeclare_local_operator\u001b[0m\u001b[0;34m(\u001b[0m\u001b[0m_get_xgboost_operator_name\u001b[0m\u001b[0;34m(\u001b[0m\u001b[0mtype\u001b[0m\u001b[0;34m(\u001b[0m\u001b[0mmodel\u001b[0m\u001b[0;34m)\u001b[0m\u001b[0;34m)\u001b[0m\u001b[0;34m,\u001b[0m \u001b[0mmodel\u001b[0m\u001b[0;34m)\u001b[0m\u001b[0;34m\u001b[0m\u001b[0;34m\u001b[0m\u001b[0m\n\u001b[0m\u001b[1;32m     41\u001b[0m     \u001b[0mthis_operator\u001b[0m\u001b[0;34m.\u001b[0m\u001b[0minputs\u001b[0m \u001b[0;34m=\u001b[0m \u001b[0minputs\u001b[0m\u001b[0;34m\u001b[0m\u001b[0;34m\u001b[0m\u001b[0m\n\u001b[1;32m     42\u001b[0m \u001b[0;34m\u001b[0m\u001b[0m\n",
      "\u001b[0;32m~/.conda/envs/mamba/lib/python3.6/site-packages/onnxmltools/convert/xgboost/_parse.py\u001b[0m in \u001b[0;36m_get_xgboost_operator_name\u001b[0;34m(model_type)\u001b[0m\n\u001b[1;32m     25\u001b[0m     '''\n\u001b[1;32m     26\u001b[0m     \u001b[0;32mif\u001b[0m \u001b[0mmodel_type\u001b[0m \u001b[0;32mnot\u001b[0m \u001b[0;32min\u001b[0m \u001b[0mxgboost_operator_name_map\u001b[0m\u001b[0;34m:\u001b[0m\u001b[0;34m\u001b[0m\u001b[0;34m\u001b[0m\u001b[0m\n\u001b[0;32m---> 27\u001b[0;31m         \u001b[0;32mraise\u001b[0m \u001b[0mValueError\u001b[0m\u001b[0;34m(\u001b[0m\u001b[0;34m\"No proper operator name found for '%s'\"\u001b[0m \u001b[0;34m%\u001b[0m \u001b[0mmodel_type\u001b[0m\u001b[0;34m)\u001b[0m\u001b[0;34m\u001b[0m\u001b[0;34m\u001b[0m\u001b[0m\n\u001b[0m\u001b[1;32m     28\u001b[0m     \u001b[0;32mreturn\u001b[0m \u001b[0mxgboost_operator_name_map\u001b[0m\u001b[0;34m[\u001b[0m\u001b[0mmodel_type\u001b[0m\u001b[0;34m]\u001b[0m\u001b[0;34m\u001b[0m\u001b[0;34m\u001b[0m\u001b[0m\n\u001b[1;32m     29\u001b[0m \u001b[0;34m\u001b[0m\u001b[0m\n",
      "\u001b[0;31mValueError\u001b[0m: No proper operator name found for '<class 'xgboost.core.Booster'>'"
     ]
    }
   ],
   "source": [
    "onnx_model_path = \"model_files/test_dask_xgb.onnx\"\n",
    "features_dask = dask_model.feature_names\n",
    "onnx_model = onnx_test.convert_xgb_to_onnx(dask_model, len(features_dask), onnx_model_path)"
   ]
  },
  {
   "cell_type": "code",
   "execution_count": null,
   "metadata": {},
   "outputs": [],
   "source": []
  }
 ],
 "metadata": {
  "kernelspec": {
   "display_name": "Python [conda env:.conda-mamba] *",
   "language": "python",
   "name": "conda-env-.conda-mamba-py"
  },
  "language_info": {
   "codemirror_mode": {
    "name": "ipython",
    "version": 3
   },
   "file_extension": ".py",
   "mimetype": "text/x-python",
   "name": "python",
   "nbconvert_exporter": "python",
   "pygments_lexer": "ipython3",
   "version": "3.6.10"
  }
 },
 "nbformat": 4,
 "nbformat_minor": 2
}
